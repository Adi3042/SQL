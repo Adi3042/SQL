{
 "cells": [
  {
   "cell_type": "code",
   "execution_count": null,
   "id": "31d0cdda-c32f-4867-9bdf-5ecdc627df7e",
   "metadata": {},
   "outputs": [],
   "source": [
    "'''\n",
    "    Q1. What is a database? Differentiate between SQL and NoSQL databases.\n",
    "'''"
   ]
  },
  {
   "cell_type": "code",
   "execution_count": null,
   "id": "3647c8b3-0325-44f0-a3f9-6bd8656daf0f",
   "metadata": {},
   "outputs": [],
   "source": [
    "DATABASE:-\n",
    "A database is a collection of data that is organized and stored in a way that enables \n",
    "efficient retrieval and manipulation of the data.\n",
    "\n",
    "SQL and NoSQL are two different types of database management systems \n",
    "\n",
    "SQL (Structured Query Language) databases are based on a relational model, where data is organized \n",
    "into tables with defined columns and relationships between them.\n",
    "\n",
    "NoSQL (Not Only SQL) databases use a variety of non-relational models, including document-based, \n",
    "key-value, and graph-based models. NoSQL databases are designed to be highly scalable and flexible"
   ]
  },
  {
   "cell_type": "code",
   "execution_count": null,
   "id": "0b79a3e0-dab8-4bcd-952e-b4742226126b",
   "metadata": {},
   "outputs": [],
   "source": [
    "'''\n",
    "    Q2. What is DDL? Explain why CREATE, DROP, ALTER, and TRUNCATE are used with an example.\n",
    "'''"
   ]
  },
  {
   "cell_type": "code",
   "execution_count": null,
   "id": "ae7c2009-c072-4183-8765-441074eeeab1",
   "metadata": {},
   "outputs": [],
   "source": [
    "DDL stands for Data Definition Language, which is a subset of SQL (Structured Query Language) used to define and \n",
    "manage database structures and objects, such as tables, views, indexes, and constraints. DDL statements are used \n",
    "to create, modify, and delete database objects, and are often used in conjunction with other SQL statements to \n",
    "manage the data stored in the database.\n",
    "\n",
    "some examples of DDL statements and their uses:\n",
    "\n",
    "CREATE: The CREATE statement is used to create new database objects, such as tables, views, indexes, and constraints. \n",
    "For example,\n",
    "\n",
    "    CREATE TABLE customers (\n",
    "      id INT PRIMARY KEY,\n",
    "      name VARCHAR(50),\n",
    "      email VARCHAR(50)\n",
    "      );\n",
    "    \n",
    "DROP: The DROP statement is used to delete existing database objects, such as tables, views, indexes, and constraints. \n",
    "For example, \n",
    "\n",
    "    DROP TABLE customers;\n",
    "    \n",
    "ALTER: The ALTER statement is used to modify existing database objects, such as tables, views, indexes, and constraints. \n",
    "For example,\n",
    "    \n",
    "    ALTER TABLE customers ADD COLUMN phone VARCHAR(20);\n",
    "    \n",
    "TRUNCATE: The TRUNCATE statement is used to delete all data from a table, while keeping its structure and indexes intact.\n",
    "For example, \n",
    "\n",
    "    TRUNCATE TABLE customers;"
   ]
  },
  {
   "cell_type": "code",
   "execution_count": null,
   "id": "e4f566bb-ad6b-4014-929e-8c29f5150d07",
   "metadata": {},
   "outputs": [],
   "source": [
    "'''\n",
    "    Q3. What is DML? Explain INSERT, UPDATE, and DELETE with an example.\n",
    "'''"
   ]
  },
  {
   "cell_type": "code",
   "execution_count": null,
   "id": "e9911ee1-50c3-4d60-a2ff-10a4212f9176",
   "metadata": {},
   "outputs": [],
   "source": [
    "DML stands for Data Manipulation Language, which is a subset of SQL (Structured Query Language) used to insert, \n",
    "update, and delete data in a database. DML statements are used to modify the content of a database, and are \n",
    "often used in conjunction with other SQL statements to manage the structure and organization of the database.\n",
    "\n",
    "Some examples of DML statements and their uses:\n",
    "\n",
    "INSERT: The INSERT statement is used to add new rows of data to a table.\n",
    "For example,\n",
    "\n",
    "    INSERT INTO customers (id, name, email) VALUES (1, 'Aditya', 'adi@gmail.com');\n",
    "\n",
    "UPDATE: The UPDATE statement is used to modify existing rows of data in a table. \n",
    "For example, \n",
    "\n",
    "    UPDATE customers SET email = 'aditya@gmail.com' WHERE id = 1;\n",
    "\n",
    "DELETE: The DELETE statement is used to remove rows of data from a table. \n",
    "For example, \n",
    "\n",
    "    DELETE FROM customers WHERE id = 1;"
   ]
  },
  {
   "cell_type": "code",
   "execution_count": null,
   "id": "3b1e7442-b534-4a52-b226-38d5e0a27fb0",
   "metadata": {},
   "outputs": [],
   "source": [
    "'''\n",
    "    Q4. What is DQL? Explain SELECT with an example.\n",
    "'''"
   ]
  },
  {
   "cell_type": "code",
   "execution_count": null,
   "id": "523f76f3-b998-4ba2-bc33-8bca3c182798",
   "metadata": {},
   "outputs": [],
   "source": [
    "DQL stands for Data Query Language, which is a subset of SQL (Structured Query Language) used to retrieve data from a database. \n",
    "DQL statements are used to select data from one or more tables in a database, and can be used to perform complex queries to \n",
    "retrieve specific data.\n",
    "\n",
    "The SELECT statement is used to retrieve data from a database. \n",
    "\n",
    "Some example of a SELECT statement----\n",
    "    \n",
    "    SELECT * FROM customers;\n",
    "    SELECT name, email FROM customers;\n",
    "    SELECT name, email FROM customers WHERE age > 18;\n"
   ]
  },
  {
   "cell_type": "code",
   "execution_count": null,
   "id": "421cbb28-c79a-4a96-b68b-47e9d2f8a8a0",
   "metadata": {},
   "outputs": [],
   "source": [
    "'''\n",
    "    Q5. Explain Primary Key and Foreign Key.\n",
    "'''"
   ]
  },
  {
   "cell_type": "code",
   "execution_count": null,
   "id": "25b16bec-af30-4adb-8d37-2c8061fc84e0",
   "metadata": {},
   "outputs": [],
   "source": [
    "PRIMARY KEY:\n",
    "    a primary key is a column or set of columns in a table that uniquely identifies each row in that table. \n",
    "    The primary key must be unique, meaning that no two rows can have the same values in the primary key column(s). \n",
    "    Additionally, the primary key column(s) cannot contain null values.\n",
    "    \n",
    "FOREIGN KEY:\n",
    "    A foreign key is a column or set of columns in a table that refers to the primary key of another table. \n",
    "    It creates a relationship between two tables based on the values in the columns. \n",
    "    The foreign key column(s) in one table must have values that match the values of the primary key column(s) \n",
    "    in the other table. \n",
    "    This creates a link between the two tables and allows data to be retrieved from both tables at the same time."
   ]
  },
  {
   "cell_type": "code",
   "execution_count": null,
   "id": "cf3f0d09-ddfb-48dc-9f04-9c050b30cfef",
   "metadata": {},
   "outputs": [],
   "source": [
    "'''\n",
    "    Q6. Write a python code to connect MySQL to python. Explain the cursor() and execute() method.\n",
    "'''"
   ]
  },
  {
   "cell_type": "code",
   "execution_count": null,
   "id": "c465e583-5ae2-48ad-b23e-96eb47b427fa",
   "metadata": {},
   "outputs": [],
   "source": [
    "import mysql.connector\n",
    "mydb = mysql.connector.connect(\n",
    "  host=\"localhost\",\n",
    "  user=\"abc\",\n",
    "  password=\"password\",\n",
    "  database=\"test\"\n",
    ")\n",
    "mycursor = mydb.cursor()\n",
    "mycursor.execute(\"SELECT * FROM test_table\")\n",
    "for row in mycursor.fetchall():\n",
    "    print(row)\n",
    "    \n",
    "The cursor() method creates a cursor object that allows us to execute SQL statements and fetch results, \n",
    "while the execute() method is used to execute a SQL statement."
   ]
  },
  {
   "cell_type": "code",
   "execution_count": null,
   "id": "c23bba17-ad23-4395-9de9-aa9d59ab47c3",
   "metadata": {},
   "outputs": [],
   "source": [
    "'''\n",
    "    Q7. Give the order of execution of SQL clauses in an SQL query.\n",
    "'''"
   ]
  },
  {
   "cell_type": "code",
   "execution_count": null,
   "id": "c6d1c683-0b1c-4784-a411-eeb913df12e5",
   "metadata": {},
   "outputs": [],
   "source": [
    "The order of execution of SQL clauses in an SQL query is as follows:\n",
    "\n",
    "FROM - Specifies the table to retrieve data from.\n",
    "WHERE - Filters the rows to be retrieved based on the specified conditions.\n",
    "GROUP BY - Groups the rows based on one or more columns.\n",
    "HAVING - Filters the groups based on the specified conditions.\n",
    "SELECT - Retrieves the specified columns for the rows that satisfy the conditions.\n",
    "ORDER BY - Sorts the rows based on the specified columns and sort order."
   ]
  }
 ],
 "metadata": {
  "kernelspec": {
   "display_name": "Python 3 (ipykernel)",
   "language": "python",
   "name": "python3"
  },
  "language_info": {
   "codemirror_mode": {
    "name": "ipython",
    "version": 3
   },
   "file_extension": ".py",
   "mimetype": "text/x-python",
   "name": "python",
   "nbconvert_exporter": "python",
   "pygments_lexer": "ipython3",
   "version": "3.10.8"
  }
 },
 "nbformat": 4,
 "nbformat_minor": 5
}
